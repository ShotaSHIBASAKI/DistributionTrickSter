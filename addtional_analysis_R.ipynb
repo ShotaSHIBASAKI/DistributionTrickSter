{
 "cells": [
  {
   "cell_type": "markdown",
   "id": "5438d69e-ec3f-474e-b0af-6ab21da0492a",
   "metadata": {},
   "source": [
    "# Additional analysis with R\n",
    "\n",
    "In this notebook, we analyze the biome data when the resolution of the hex grid is higher than in the main text."
   ]
  },
  {
   "cell_type": "code",
   "execution_count": 1,
   "id": "70615cce-d37b-441c-ae7e-369637f1b4a7",
   "metadata": {},
   "outputs": [
    {
     "name": "stderr",
     "output_type": "stream",
     "text": [
      "     Happy biome plotting!\n",
      "\n",
      " 要求されたパッケージ sp をロード中です \n",
      "\n",
      "Checking rgeos availability: TRUE\n",
      "Please note that 'maptools' will be retired during 2023,\n",
      "plan transition at your earliest convenience;\n",
      "some functionality will be moved to 'sp'.\n",
      "\n"
     ]
    }
   ],
   "source": [
    "library(plotbiomes)\n",
    "library(ggplot2)\n",
    "library(raster)\n",
    "library(maptools)\n",
    "library(sp)\n",
    "library(EMT)\n",
    "data_null=read.csv(\"Null_Biome_distributions2.csv\") # null data corresponding all terestorial ares\n"
   ]
  },
  {
   "cell_type": "code",
   "execution_count": 2,
   "id": "47e31ae1-9dd8-40f0-bd6a-a0228d03ef0e",
   "metadata": {},
   "outputs": [
    {
     "data": {
      "text/html": [
       "<table class=\"dataframe\">\n",
       "<caption>A data.frame: 17055 × 5</caption>\n",
       "<thead>\n",
       "\t<tr><th scope=col>X</th><th scope=col>hex_index2</th><th scope=col>Species</th><th scope=col>Annu_Mean_Temp</th><th scope=col>Annu_Prec</th></tr>\n",
       "\t<tr><th scope=col>&lt;int&gt;</th><th scope=col>&lt;chr&gt;</th><th scope=col>&lt;chr&gt;</th><th scope=col>&lt;dbl&gt;</th><th scope=col>&lt;dbl&gt;</th></tr>\n",
       "</thead>\n",
       "<tbody>\n",
       "\t<tr><td>  0</td><td>82a847fffffffff</td><td>anteater</td><td>25.055918</td><td>1032.000</td></tr>\n",
       "\t<tr><td>  1</td><td>82b34ffffffffff</td><td>anteater</td><td>22.494013</td><td> 583.000</td></tr>\n",
       "\t<tr><td>  3</td><td>825f2ffffffffff</td><td>anteater</td><td>26.421509</td><td>1672.000</td></tr>\n",
       "\t<tr><td>  4</td><td>82a85ffffffffff</td><td>anteater</td><td>25.209452</td><td>1159.000</td></tr>\n",
       "\t<tr><td>  7</td><td>826657fffffffff</td><td>anteater</td><td>26.627391</td><td>2580.000</td></tr>\n",
       "\t<tr><td> 10</td><td>82a81ffffffffff</td><td>anteater</td><td>21.577311</td><td>1047.000</td></tr>\n",
       "\t<tr><td> 12</td><td>82660ffffffffff</td><td>anteater</td><td>21.504501</td><td>1528.000</td></tr>\n",
       "\t<tr><td> 44</td><td>826627fffffffff</td><td>anteater</td><td>26.228910</td><td>1139.933</td></tr>\n",
       "\t<tr><td> 45</td><td>828adffffffffff</td><td>anteater</td><td>26.925288</td><td>1861.000</td></tr>\n",
       "\t<tr><td> 47</td><td>82a8e7fffffffff</td><td>anteater</td><td>23.021011</td><td>1083.000</td></tr>\n",
       "\t<tr><td> 49</td><td>82a86ffffffffff</td><td>anteater</td><td>26.108017</td><td> 620.000</td></tr>\n",
       "\t<tr><td> 52</td><td>82a857fffffffff</td><td>anteater</td><td>23.131688</td><td>1222.000</td></tr>\n",
       "\t<tr><td> 54</td><td>82a8affffffffff</td><td>anteater</td><td>19.766541</td><td>1213.000</td></tr>\n",
       "\t<tr><td> 61</td><td>82b367fffffffff</td><td>anteater</td><td>24.327347</td><td> 416.000</td></tr>\n",
       "\t<tr><td> 62</td><td>828b9ffffffffff</td><td>anteater</td><td>26.164424</td><td>1915.000</td></tr>\n",
       "\t<tr><td> 64</td><td>82a877fffffffff</td><td>anteater</td><td>22.308268</td><td>1318.000</td></tr>\n",
       "\t<tr><td> 67</td><td>82a88ffffffffff</td><td>anteater</td><td>21.892441</td><td> 857.000</td></tr>\n",
       "\t<tr><td> 70</td><td>826667fffffffff</td><td>anteater</td><td>27.780487</td><td>1973.000</td></tr>\n",
       "\t<tr><td> 72</td><td>828b67fffffffff</td><td>anteater</td><td> 2.344396</td><td> 740.000</td></tr>\n",
       "\t<tr><td> 73</td><td>82a96ffffffffff</td><td>anteater</td><td>21.010122</td><td>1026.000</td></tr>\n",
       "\t<tr><td> 75</td><td>828b47fffffffff</td><td>anteater</td><td>24.761454</td><td>1391.000</td></tr>\n",
       "\t<tr><td> 77</td><td>8266c7fffffffff</td><td>anteater</td><td>22.814646</td><td>2216.000</td></tr>\n",
       "\t<tr><td> 92</td><td>8266e7fffffffff</td><td>anteater</td><td>18.584478</td><td>1709.000</td></tr>\n",
       "\t<tr><td>124</td><td>82661ffffffffff</td><td>anteater</td><td>19.700623</td><td>2289.000</td></tr>\n",
       "\t<tr><td>126</td><td>825f17fffffffff</td><td>anteater</td><td>25.396011</td><td>2697.000</td></tr>\n",
       "\t<tr><td>132</td><td>82a8c7fffffffff</td><td>anteater</td><td>22.769058</td><td>1372.000</td></tr>\n",
       "\t<tr><td>144</td><td>82a8d7fffffffff</td><td>anteater</td><td>21.434484</td><td>1085.000</td></tr>\n",
       "\t<tr><td>145</td><td>828147fffffffff</td><td>anteater</td><td>25.900396</td><td>1562.000</td></tr>\n",
       "\t<tr><td>149</td><td>82a947fffffffff</td><td>anteater</td><td>21.503276</td><td>1362.000</td></tr>\n",
       "\t<tr><td>151</td><td>828f4ffffffffff</td><td>anteater</td><td>26.286001</td><td>1560.000</td></tr>\n",
       "\t<tr><td>⋮</td><td>⋮</td><td>⋮</td><td>⋮</td><td>⋮</td></tr>\n",
       "\t<tr><td>  15866</td><td>82b8e7fffffffff</td><td>wren</td><td>21.54508</td><td> 213.000</td></tr>\n",
       "\t<tr><td>  15978</td><td>829cb7fffffffff</td><td>wren</td><td>26.85834</td><td>3008.000</td></tr>\n",
       "\t<tr><td>  16307</td><td>829447fffffffff</td><td>wren</td><td>27.51702</td><td>1357.000</td></tr>\n",
       "\t<tr><td>  17633</td><td>82b8effffffffff</td><td>wren</td><td>22.69157</td><td> 188.000</td></tr>\n",
       "\t<tr><td>  18169</td><td>82b8dffffffffff</td><td>wren</td><td>26.47915</td><td> 267.000</td></tr>\n",
       "\t<tr><td>  21722</td><td>82b84ffffffffff</td><td>wren</td><td>20.22580</td><td> 251.000</td></tr>\n",
       "\t<tr><td>  21784</td><td>82728ffffffffff</td><td>wren</td><td>16.36233</td><td>2732.000</td></tr>\n",
       "\t<tr><td>  22343</td><td>8272f7fffffffff</td><td>wren</td><td>26.50218</td><td>2309.500</td></tr>\n",
       "\t<tr><td>  23795</td><td>829ceffffffffff</td><td>wren</td><td>26.78413</td><td>1345.143</td></tr>\n",
       "\t<tr><td>  27639</td><td>82a7affffffffff</td><td>wren</td><td>23.23277</td><td> 206.000</td></tr>\n",
       "\t<tr><td>  29349</td><td>8272b7fffffffff</td><td>wren</td><td>26.01883</td><td>3184.500</td></tr>\n",
       "\t<tr><td>  30266</td><td>82a7b7fffffffff</td><td>wren</td><td>23.12278</td><td> 223.000</td></tr>\n",
       "\t<tr><td>  30505</td><td>82b8d7fffffffff</td><td>wren</td><td>25.81385</td><td> 284.000</td></tr>\n",
       "\t<tr><td>  42719</td><td>829c5ffffffffff</td><td>wren</td><td>26.95667</td><td> 903.000</td></tr>\n",
       "\t<tr><td>  45476</td><td>829ca7fffffffff</td><td>wren</td><td>22.73959</td><td>2732.000</td></tr>\n",
       "\t<tr><td>  61807</td><td>827297fffffffff</td><td>wren</td><td>26.75749</td><td>2567.429</td></tr>\n",
       "\t<tr><td>  61820</td><td>827287fffffffff</td><td>wren</td><td>26.49000</td><td>2856.000</td></tr>\n",
       "\t<tr><td>  82759</td><td>829cdffffffffff</td><td>wren</td><td>27.00204</td><td>3099.000</td></tr>\n",
       "\t<tr><td>  97095</td><td>829cc7fffffffff</td><td>wren</td><td>26.98948</td><td>1569.333</td></tr>\n",
       "\t<tr><td> 206914</td><td>82be07fffffffff</td><td>wren</td><td>      NA</td><td>   0.000</td></tr>\n",
       "\t<tr><td> 312103</td><td>82729ffffffffff</td><td>wren</td><td>26.57338</td><td>2953.600</td></tr>\n",
       "\t<tr><td> 378322</td><td>82a6affffffffff</td><td>wren</td><td>      NA</td><td>   0.000</td></tr>\n",
       "\t<tr><td> 676442</td><td>82bf8ffffffffff</td><td>wren</td><td>18.81181</td><td>1606.000</td></tr>\n",
       "\t<tr><td> 715330</td><td>82ad37fffffffff</td><td>wren</td><td>16.52875</td><td> 473.000</td></tr>\n",
       "\t<tr><td> 731140</td><td>829c97fffffffff</td><td>wren</td><td>25.79845</td><td>3058.000</td></tr>\n",
       "\t<tr><td> 762947</td><td>824e1ffffffffff</td><td>wren</td><td>      NA</td><td>   0.000</td></tr>\n",
       "\t<tr><td> 762986</td><td>824eaffffffffff</td><td>wren</td><td>      NA</td><td>   0.000</td></tr>\n",
       "\t<tr><td> 763312</td><td>822e27fffffffff</td><td>wren</td><td>      NA</td><td>   0.000</td></tr>\n",
       "\t<tr><td>1141058</td><td>822f07fffffffff</td><td>wren</td><td>      NA</td><td>   0.000</td></tr>\n",
       "\t<tr><td>1280553</td><td>82e19ffffffffff</td><td>wren</td><td>      NA</td><td>   0.000</td></tr>\n",
       "</tbody>\n",
       "</table>\n"
      ],
      "text/latex": [
       "A data.frame: 17055 × 5\n",
       "\\begin{tabular}{lllll}\n",
       " X & hex\\_index2 & Species & Annu\\_Mean\\_Temp & Annu\\_Prec\\\\\n",
       " <int> & <chr> & <chr> & <dbl> & <dbl>\\\\\n",
       "\\hline\n",
       "\t   0 & 82a847fffffffff & anteater & 25.055918 & 1032.000\\\\\n",
       "\t   1 & 82b34ffffffffff & anteater & 22.494013 &  583.000\\\\\n",
       "\t   3 & 825f2ffffffffff & anteater & 26.421509 & 1672.000\\\\\n",
       "\t   4 & 82a85ffffffffff & anteater & 25.209452 & 1159.000\\\\\n",
       "\t   7 & 826657fffffffff & anteater & 26.627391 & 2580.000\\\\\n",
       "\t  10 & 82a81ffffffffff & anteater & 21.577311 & 1047.000\\\\\n",
       "\t  12 & 82660ffffffffff & anteater & 21.504501 & 1528.000\\\\\n",
       "\t  44 & 826627fffffffff & anteater & 26.228910 & 1139.933\\\\\n",
       "\t  45 & 828adffffffffff & anteater & 26.925288 & 1861.000\\\\\n",
       "\t  47 & 82a8e7fffffffff & anteater & 23.021011 & 1083.000\\\\\n",
       "\t  49 & 82a86ffffffffff & anteater & 26.108017 &  620.000\\\\\n",
       "\t  52 & 82a857fffffffff & anteater & 23.131688 & 1222.000\\\\\n",
       "\t  54 & 82a8affffffffff & anteater & 19.766541 & 1213.000\\\\\n",
       "\t  61 & 82b367fffffffff & anteater & 24.327347 &  416.000\\\\\n",
       "\t  62 & 828b9ffffffffff & anteater & 26.164424 & 1915.000\\\\\n",
       "\t  64 & 82a877fffffffff & anteater & 22.308268 & 1318.000\\\\\n",
       "\t  67 & 82a88ffffffffff & anteater & 21.892441 &  857.000\\\\\n",
       "\t  70 & 826667fffffffff & anteater & 27.780487 & 1973.000\\\\\n",
       "\t  72 & 828b67fffffffff & anteater &  2.344396 &  740.000\\\\\n",
       "\t  73 & 82a96ffffffffff & anteater & 21.010122 & 1026.000\\\\\n",
       "\t  75 & 828b47fffffffff & anteater & 24.761454 & 1391.000\\\\\n",
       "\t  77 & 8266c7fffffffff & anteater & 22.814646 & 2216.000\\\\\n",
       "\t  92 & 8266e7fffffffff & anteater & 18.584478 & 1709.000\\\\\n",
       "\t 124 & 82661ffffffffff & anteater & 19.700623 & 2289.000\\\\\n",
       "\t 126 & 825f17fffffffff & anteater & 25.396011 & 2697.000\\\\\n",
       "\t 132 & 82a8c7fffffffff & anteater & 22.769058 & 1372.000\\\\\n",
       "\t 144 & 82a8d7fffffffff & anteater & 21.434484 & 1085.000\\\\\n",
       "\t 145 & 828147fffffffff & anteater & 25.900396 & 1562.000\\\\\n",
       "\t 149 & 82a947fffffffff & anteater & 21.503276 & 1362.000\\\\\n",
       "\t 151 & 828f4ffffffffff & anteater & 26.286001 & 1560.000\\\\\n",
       "\t ⋮ & ⋮ & ⋮ & ⋮ & ⋮\\\\\n",
       "\t   15866 & 82b8e7fffffffff & wren & 21.54508 &  213.000\\\\\n",
       "\t   15978 & 829cb7fffffffff & wren & 26.85834 & 3008.000\\\\\n",
       "\t   16307 & 829447fffffffff & wren & 27.51702 & 1357.000\\\\\n",
       "\t   17633 & 82b8effffffffff & wren & 22.69157 &  188.000\\\\\n",
       "\t   18169 & 82b8dffffffffff & wren & 26.47915 &  267.000\\\\\n",
       "\t   21722 & 82b84ffffffffff & wren & 20.22580 &  251.000\\\\\n",
       "\t   21784 & 82728ffffffffff & wren & 16.36233 & 2732.000\\\\\n",
       "\t   22343 & 8272f7fffffffff & wren & 26.50218 & 2309.500\\\\\n",
       "\t   23795 & 829ceffffffffff & wren & 26.78413 & 1345.143\\\\\n",
       "\t   27639 & 82a7affffffffff & wren & 23.23277 &  206.000\\\\\n",
       "\t   29349 & 8272b7fffffffff & wren & 26.01883 & 3184.500\\\\\n",
       "\t   30266 & 82a7b7fffffffff & wren & 23.12278 &  223.000\\\\\n",
       "\t   30505 & 82b8d7fffffffff & wren & 25.81385 &  284.000\\\\\n",
       "\t   42719 & 829c5ffffffffff & wren & 26.95667 &  903.000\\\\\n",
       "\t   45476 & 829ca7fffffffff & wren & 22.73959 & 2732.000\\\\\n",
       "\t   61807 & 827297fffffffff & wren & 26.75749 & 2567.429\\\\\n",
       "\t   61820 & 827287fffffffff & wren & 26.49000 & 2856.000\\\\\n",
       "\t   82759 & 829cdffffffffff & wren & 27.00204 & 3099.000\\\\\n",
       "\t   97095 & 829cc7fffffffff & wren & 26.98948 & 1569.333\\\\\n",
       "\t  206914 & 82be07fffffffff & wren &       NA &    0.000\\\\\n",
       "\t  312103 & 82729ffffffffff & wren & 26.57338 & 2953.600\\\\\n",
       "\t  378322 & 82a6affffffffff & wren &       NA &    0.000\\\\\n",
       "\t  676442 & 82bf8ffffffffff & wren & 18.81181 & 1606.000\\\\\n",
       "\t  715330 & 82ad37fffffffff & wren & 16.52875 &  473.000\\\\\n",
       "\t  731140 & 829c97fffffffff & wren & 25.79845 & 3058.000\\\\\n",
       "\t  762947 & 824e1ffffffffff & wren &       NA &    0.000\\\\\n",
       "\t  762986 & 824eaffffffffff & wren &       NA &    0.000\\\\\n",
       "\t  763312 & 822e27fffffffff & wren &       NA &    0.000\\\\\n",
       "\t 1141058 & 822f07fffffffff & wren &       NA &    0.000\\\\\n",
       "\t 1280553 & 82e19ffffffffff & wren &       NA &    0.000\\\\\n",
       "\\end{tabular}\n"
      ],
      "text/markdown": [
       "\n",
       "A data.frame: 17055 × 5\n",
       "\n",
       "| X &lt;int&gt; | hex_index2 &lt;chr&gt; | Species &lt;chr&gt; | Annu_Mean_Temp &lt;dbl&gt; | Annu_Prec &lt;dbl&gt; |\n",
       "|---|---|---|---|---|\n",
       "|   0 | 82a847fffffffff | anteater | 25.055918 | 1032.000 |\n",
       "|   1 | 82b34ffffffffff | anteater | 22.494013 |  583.000 |\n",
       "|   3 | 825f2ffffffffff | anteater | 26.421509 | 1672.000 |\n",
       "|   4 | 82a85ffffffffff | anteater | 25.209452 | 1159.000 |\n",
       "|   7 | 826657fffffffff | anteater | 26.627391 | 2580.000 |\n",
       "|  10 | 82a81ffffffffff | anteater | 21.577311 | 1047.000 |\n",
       "|  12 | 82660ffffffffff | anteater | 21.504501 | 1528.000 |\n",
       "|  44 | 826627fffffffff | anteater | 26.228910 | 1139.933 |\n",
       "|  45 | 828adffffffffff | anteater | 26.925288 | 1861.000 |\n",
       "|  47 | 82a8e7fffffffff | anteater | 23.021011 | 1083.000 |\n",
       "|  49 | 82a86ffffffffff | anteater | 26.108017 |  620.000 |\n",
       "|  52 | 82a857fffffffff | anteater | 23.131688 | 1222.000 |\n",
       "|  54 | 82a8affffffffff | anteater | 19.766541 | 1213.000 |\n",
       "|  61 | 82b367fffffffff | anteater | 24.327347 |  416.000 |\n",
       "|  62 | 828b9ffffffffff | anteater | 26.164424 | 1915.000 |\n",
       "|  64 | 82a877fffffffff | anteater | 22.308268 | 1318.000 |\n",
       "|  67 | 82a88ffffffffff | anteater | 21.892441 |  857.000 |\n",
       "|  70 | 826667fffffffff | anteater | 27.780487 | 1973.000 |\n",
       "|  72 | 828b67fffffffff | anteater |  2.344396 |  740.000 |\n",
       "|  73 | 82a96ffffffffff | anteater | 21.010122 | 1026.000 |\n",
       "|  75 | 828b47fffffffff | anteater | 24.761454 | 1391.000 |\n",
       "|  77 | 8266c7fffffffff | anteater | 22.814646 | 2216.000 |\n",
       "|  92 | 8266e7fffffffff | anteater | 18.584478 | 1709.000 |\n",
       "| 124 | 82661ffffffffff | anteater | 19.700623 | 2289.000 |\n",
       "| 126 | 825f17fffffffff | anteater | 25.396011 | 2697.000 |\n",
       "| 132 | 82a8c7fffffffff | anteater | 22.769058 | 1372.000 |\n",
       "| 144 | 82a8d7fffffffff | anteater | 21.434484 | 1085.000 |\n",
       "| 145 | 828147fffffffff | anteater | 25.900396 | 1562.000 |\n",
       "| 149 | 82a947fffffffff | anteater | 21.503276 | 1362.000 |\n",
       "| 151 | 828f4ffffffffff | anteater | 26.286001 | 1560.000 |\n",
       "| ⋮ | ⋮ | ⋮ | ⋮ | ⋮ |\n",
       "|   15866 | 82b8e7fffffffff | wren | 21.54508 |  213.000 |\n",
       "|   15978 | 829cb7fffffffff | wren | 26.85834 | 3008.000 |\n",
       "|   16307 | 829447fffffffff | wren | 27.51702 | 1357.000 |\n",
       "|   17633 | 82b8effffffffff | wren | 22.69157 |  188.000 |\n",
       "|   18169 | 82b8dffffffffff | wren | 26.47915 |  267.000 |\n",
       "|   21722 | 82b84ffffffffff | wren | 20.22580 |  251.000 |\n",
       "|   21784 | 82728ffffffffff | wren | 16.36233 | 2732.000 |\n",
       "|   22343 | 8272f7fffffffff | wren | 26.50218 | 2309.500 |\n",
       "|   23795 | 829ceffffffffff | wren | 26.78413 | 1345.143 |\n",
       "|   27639 | 82a7affffffffff | wren | 23.23277 |  206.000 |\n",
       "|   29349 | 8272b7fffffffff | wren | 26.01883 | 3184.500 |\n",
       "|   30266 | 82a7b7fffffffff | wren | 23.12278 |  223.000 |\n",
       "|   30505 | 82b8d7fffffffff | wren | 25.81385 |  284.000 |\n",
       "|   42719 | 829c5ffffffffff | wren | 26.95667 |  903.000 |\n",
       "|   45476 | 829ca7fffffffff | wren | 22.73959 | 2732.000 |\n",
       "|   61807 | 827297fffffffff | wren | 26.75749 | 2567.429 |\n",
       "|   61820 | 827287fffffffff | wren | 26.49000 | 2856.000 |\n",
       "|   82759 | 829cdffffffffff | wren | 27.00204 | 3099.000 |\n",
       "|   97095 | 829cc7fffffffff | wren | 26.98948 | 1569.333 |\n",
       "|  206914 | 82be07fffffffff | wren |       NA |    0.000 |\n",
       "|  312103 | 82729ffffffffff | wren | 26.57338 | 2953.600 |\n",
       "|  378322 | 82a6affffffffff | wren |       NA |    0.000 |\n",
       "|  676442 | 82bf8ffffffffff | wren | 18.81181 | 1606.000 |\n",
       "|  715330 | 82ad37fffffffff | wren | 16.52875 |  473.000 |\n",
       "|  731140 | 829c97fffffffff | wren | 25.79845 | 3058.000 |\n",
       "|  762947 | 824e1ffffffffff | wren |       NA |    0.000 |\n",
       "|  762986 | 824eaffffffffff | wren |       NA |    0.000 |\n",
       "|  763312 | 822e27fffffffff | wren |       NA |    0.000 |\n",
       "| 1141058 | 822f07fffffffff | wren |       NA |    0.000 |\n",
       "| 1280553 | 82e19ffffffffff | wren |       NA |    0.000 |\n",
       "\n"
      ],
      "text/plain": [
       "      X       hex_index2      Species  Annu_Mean_Temp Annu_Prec\n",
       "1       0     82a847fffffffff anteater 25.055918      1032.000 \n",
       "2       1     82b34ffffffffff anteater 22.494013       583.000 \n",
       "3       3     825f2ffffffffff anteater 26.421509      1672.000 \n",
       "4       4     82a85ffffffffff anteater 25.209452      1159.000 \n",
       "5       7     826657fffffffff anteater 26.627391      2580.000 \n",
       "6      10     82a81ffffffffff anteater 21.577311      1047.000 \n",
       "7      12     82660ffffffffff anteater 21.504501      1528.000 \n",
       "8      44     826627fffffffff anteater 26.228910      1139.933 \n",
       "9      45     828adffffffffff anteater 26.925288      1861.000 \n",
       "10     47     82a8e7fffffffff anteater 23.021011      1083.000 \n",
       "11     49     82a86ffffffffff anteater 26.108017       620.000 \n",
       "12     52     82a857fffffffff anteater 23.131688      1222.000 \n",
       "13     54     82a8affffffffff anteater 19.766541      1213.000 \n",
       "14     61     82b367fffffffff anteater 24.327347       416.000 \n",
       "15     62     828b9ffffffffff anteater 26.164424      1915.000 \n",
       "16     64     82a877fffffffff anteater 22.308268      1318.000 \n",
       "17     67     82a88ffffffffff anteater 21.892441       857.000 \n",
       "18     70     826667fffffffff anteater 27.780487      1973.000 \n",
       "19     72     828b67fffffffff anteater  2.344396       740.000 \n",
       "20     73     82a96ffffffffff anteater 21.010122      1026.000 \n",
       "21     75     828b47fffffffff anteater 24.761454      1391.000 \n",
       "22     77     8266c7fffffffff anteater 22.814646      2216.000 \n",
       "23     92     8266e7fffffffff anteater 18.584478      1709.000 \n",
       "24    124     82661ffffffffff anteater 19.700623      2289.000 \n",
       "25    126     825f17fffffffff anteater 25.396011      2697.000 \n",
       "26    132     82a8c7fffffffff anteater 22.769058      1372.000 \n",
       "27    144     82a8d7fffffffff anteater 21.434484      1085.000 \n",
       "28    145     828147fffffffff anteater 25.900396      1562.000 \n",
       "29    149     82a947fffffffff anteater 21.503276      1362.000 \n",
       "30    151     828f4ffffffffff anteater 26.286001      1560.000 \n",
       "⋮     ⋮       ⋮               ⋮        ⋮              ⋮        \n",
       "17026   15866 82b8e7fffffffff wren     21.54508        213.000 \n",
       "17027   15978 829cb7fffffffff wren     26.85834       3008.000 \n",
       "17028   16307 829447fffffffff wren     27.51702       1357.000 \n",
       "17029   17633 82b8effffffffff wren     22.69157        188.000 \n",
       "17030   18169 82b8dffffffffff wren     26.47915        267.000 \n",
       "17031   21722 82b84ffffffffff wren     20.22580        251.000 \n",
       "17032   21784 82728ffffffffff wren     16.36233       2732.000 \n",
       "17033   22343 8272f7fffffffff wren     26.50218       2309.500 \n",
       "17034   23795 829ceffffffffff wren     26.78413       1345.143 \n",
       "17035   27639 82a7affffffffff wren     23.23277        206.000 \n",
       "17036   29349 8272b7fffffffff wren     26.01883       3184.500 \n",
       "17037   30266 82a7b7fffffffff wren     23.12278        223.000 \n",
       "17038   30505 82b8d7fffffffff wren     25.81385        284.000 \n",
       "17039   42719 829c5ffffffffff wren     26.95667        903.000 \n",
       "17040   45476 829ca7fffffffff wren     22.73959       2732.000 \n",
       "17041   61807 827297fffffffff wren     26.75749       2567.429 \n",
       "17042   61820 827287fffffffff wren     26.49000       2856.000 \n",
       "17043   82759 829cdffffffffff wren     27.00204       3099.000 \n",
       "17044   97095 829cc7fffffffff wren     26.98948       1569.333 \n",
       "17045  206914 82be07fffffffff wren           NA          0.000 \n",
       "17046  312103 82729ffffffffff wren     26.57338       2953.600 \n",
       "17047  378322 82a6affffffffff wren           NA          0.000 \n",
       "17048  676442 82bf8ffffffffff wren     18.81181       1606.000 \n",
       "17049  715330 82ad37fffffffff wren     16.52875        473.000 \n",
       "17050  731140 829c97fffffffff wren     25.79845       3058.000 \n",
       "17051  762947 824e1ffffffffff wren           NA          0.000 \n",
       "17052  762986 824eaffffffffff wren           NA          0.000 \n",
       "17053  763312 822e27fffffffff wren           NA          0.000 \n",
       "17054 1141058 822f07fffffffff wren           NA          0.000 \n",
       "17055 1280553 82e19ffffffffff wren           NA          0.000 "
      ]
     },
     "metadata": {},
     "output_type": "display_data"
    }
   ],
   "source": [
    "data_null"
   ]
  },
  {
   "cell_type": "code",
   "execution_count": 3,
   "id": "9865e7f4-faf8-4082-9219-a4eb1c7952b7",
   "metadata": {},
   "outputs": [],
   "source": [
    "# classification on Whitker biome \n",
    "Biome_class=function(data){\n",
    "    df1=Whittaker_biomes[Whittaker_biomes$biome_id==1, ]\n",
    "    pol1.x=df1$temp_c\n",
    "    pol1.y=df1$precp_cm\n",
    "    \n",
    "    df2=Whittaker_biomes[Whittaker_biomes$biome_id==2, ]\n",
    "    pol2.x=df2$temp_c\n",
    "    pol2.y=df2$precp_cm\n",
    "    \n",
    "    df3=Whittaker_biomes[Whittaker_biomes$biome_id==3, ]\n",
    "    pol3.x=df3$temp_c\n",
    "    pol3.y=df3$precp_cm\n",
    "    \n",
    "    df4=Whittaker_biomes[Whittaker_biomes$biome_id==4, ]\n",
    "    pol4.x=df4$temp_c\n",
    "    pol4.y=df4$precp_cm\n",
    "    \n",
    "    df5=Whittaker_biomes[Whittaker_biomes$biome_id==5, ]\n",
    "    pol5.x=df5$temp_c\n",
    "    pol5.y=df5$precp_cm\n",
    "    \n",
    "    df6=Whittaker_biomes[Whittaker_biomes$biome_id==6, ]\n",
    "    pol6.x=df6$temp_c\n",
    "    pol6.y=df6$precp_cm\n",
    "    \n",
    "    df7=Whittaker_biomes[Whittaker_biomes$biome_id==7, ]\n",
    "    pol7.x=df7$temp_c\n",
    "    pol7.y=df7$precp_cm\n",
    "    \n",
    "    df8=Whittaker_biomes[Whittaker_biomes$biome_id==8, ]\n",
    "    pol8.x=df8$temp_c\n",
    "    pol8.y=df8$precp_cm\n",
    "    \n",
    "    df9=Whittaker_biomes[Whittaker_biomes$biome_id==9, ]\n",
    "    pol9.x=df9$temp_c\n",
    "    pol9.y=df9$precp_cm\n",
    "    \n",
    "    category=c()\n",
    "    X=data$Annu_Mean_Temp\n",
    "    Y=data$Annu_Prec \n",
    "    for (i in 1:nrow(data)){\n",
    "        X=data$Annu_Mean_Temp[i]\n",
    "        Y=data$Annu_Prec[i]/10 # convert mm to cm\n",
    "        if (point.in.polygon(X, Y, pol1.x, pol1.y)==1){\n",
    "            category=c(category, 1)\n",
    "        }\n",
    "        else \n",
    "            if (point.in.polygon(X, Y, pol2.x, pol2.y)==1){\n",
    "            category=c(category, 2)\n",
    "        }\n",
    "        else if (point.in.polygon(X, Y, pol3.x, pol3.y)==1){\n",
    "            category=c(category, 3)\n",
    "        }\n",
    "        else if (point.in.polygon(X, Y, pol4.x, pol4.y)==1){\n",
    "            category=c(category, 4)\n",
    "        }\n",
    "        else if (point.in.polygon(X, Y, pol5.x, pol5.y)==1){\n",
    "            category=c(category, 5)\n",
    "        }\n",
    "        else if (point.in.polygon(X, Y, pol6.x, pol6.y)==1){\n",
    "            category=c(category, 6)\n",
    "        }\n",
    "        else if (point.in.polygon(X, Y, pol7.x, pol7.y)==1){\n",
    "            category=c(category, 7)\n",
    "        }\n",
    "        else if (point.in.polygon(X, Y, pol8.x, pol8.y)==1){\n",
    "            category=c(category, 8)\n",
    "        }\n",
    "        else if (point.in.polygon(X, Y, pol9.x, pol9.y)==1){\n",
    "            category=c(category, 9)\n",
    "        }\n",
    "        else{\n",
    "        \n",
    "            category=c(category, 10)\n",
    "        }\n",
    "        \n",
    "    }\n",
    "    #print(category)\n",
    "    data$biome_id=as.factor(category)\n",
    "    return(data)\n",
    "}\n",
    "data=Biome_class(data_null)"
   ]
  },
  {
   "cell_type": "code",
   "execution_count": 4,
   "id": "0c26156b-539e-4d49-9cd7-583ab163b1e7",
   "metadata": {},
   "outputs": [
    {
     "data": {
      "text/html": [
       "<style>\n",
       ".list-inline {list-style: none; margin:0; padding: 0}\n",
       ".list-inline>li {display: inline-block}\n",
       ".list-inline>li:not(:last-child)::after {content: \"\\00b7\"; padding: 0 .5ex}\n",
       "</style>\n",
       "<ol class=list-inline><li>0.239753737906772</li><li>0.162532981530343</li><li>0.00299032541776605</li><li>0.0399882732336558</li><li>0.175432424508942</li><li>0.0340662562298446</li><li>0.0843154500146585</li><li>0.0879507475813544</li><li>0.12336558194078</li><li>0.0496042216358839</li></ol>\n"
      ],
      "text/latex": [
       "\\begin{enumerate*}\n",
       "\\item 0.239753737906772\n",
       "\\item 0.162532981530343\n",
       "\\item 0.00299032541776605\n",
       "\\item 0.0399882732336558\n",
       "\\item 0.175432424508942\n",
       "\\item 0.0340662562298446\n",
       "\\item 0.0843154500146585\n",
       "\\item 0.0879507475813544\n",
       "\\item 0.12336558194078\n",
       "\\item 0.0496042216358839\n",
       "\\end{enumerate*}\n"
      ],
      "text/markdown": [
       "1. 0.239753737906772\n",
       "2. 0.162532981530343\n",
       "3. 0.00299032541776605\n",
       "4. 0.0399882732336558\n",
       "5. 0.175432424508942\n",
       "6. 0.0340662562298446\n",
       "7. 0.0843154500146585\n",
       "8. 0.0879507475813544\n",
       "9. 0.12336558194078\n",
       "10. 0.0496042216358839\n",
       "\n",
       "\n"
      ],
      "text/plain": [
       " [1] 0.239753738 0.162532982 0.002990325 0.039988273 0.175432425 0.034066256\n",
       " [7] 0.084315450 0.087950748 0.123365582 0.049604222"
      ]
     },
     "metadata": {},
     "output_type": "display_data"
    }
   ],
   "source": [
    "# obtain the frequencies of the terestrial\n",
    "p_null=c(nrow(data[data$biome_id==1,]),nrow(data[data$biome_id==2,]),\n",
    "        nrow(data[data$biome_id==3,]), nrow(data[data$biome_id==4,]),\n",
    "           nrow(data[data$biome_id==5,]), nrow(data[data$biome_id==6,]),\n",
    "           nrow(data[data$biome_id==7,]),nrow(data[data$biome_id==8,]),\n",
    "         nrow(data[data$biome_id==9,]),nrow(data[data$biome_id==10,]))/nrow(data) # we skip id==3 as it does not exist\n",
    "p_null # null distribution of biome"
   ]
  },
  {
   "cell_type": "code",
   "execution_count": 6,
   "id": "14fffea2-de48-479c-9075-469692a5a85b",
   "metadata": {},
   "outputs": [
    {
     "data": {
      "text/html": [
       "<table class=\"dataframe\">\n",
       "<caption>A data.frame: 6 × 5</caption>\n",
       "<thead>\n",
       "\t<tr><th></th><th scope=col>X</th><th scope=col>hex_index2</th><th scope=col>Species</th><th scope=col>Annu_Mean_Temp</th><th scope=col>Annu_Prec</th></tr>\n",
       "\t<tr><th></th><th scope=col>&lt;int&gt;</th><th scope=col>&lt;chr&gt;</th><th scope=col>&lt;chr&gt;</th><th scope=col>&lt;dbl&gt;</th><th scope=col>&lt;dbl&gt;</th></tr>\n",
       "</thead>\n",
       "<tbody>\n",
       "\t<tr><th scope=row>1</th><td> 0</td><td>82a847fffffffff</td><td>anteater</td><td>25.05592</td><td>1032</td></tr>\n",
       "\t<tr><th scope=row>2</th><td> 1</td><td>82b34ffffffffff</td><td>anteater</td><td>22.49401</td><td> 583</td></tr>\n",
       "\t<tr><th scope=row>3</th><td> 3</td><td>825f2ffffffffff</td><td>anteater</td><td>26.42151</td><td>1672</td></tr>\n",
       "\t<tr><th scope=row>4</th><td> 4</td><td>82a85ffffffffff</td><td>anteater</td><td>25.20945</td><td>1159</td></tr>\n",
       "\t<tr><th scope=row>5</th><td> 7</td><td>826657fffffffff</td><td>anteater</td><td>26.62739</td><td>2580</td></tr>\n",
       "\t<tr><th scope=row>6</th><td>10</td><td>82a81ffffffffff</td><td>anteater</td><td>21.57731</td><td>1047</td></tr>\n",
       "</tbody>\n",
       "</table>\n"
      ],
      "text/latex": [
       "A data.frame: 6 × 5\n",
       "\\begin{tabular}{r|lllll}\n",
       "  & X & hex\\_index2 & Species & Annu\\_Mean\\_Temp & Annu\\_Prec\\\\\n",
       "  & <int> & <chr> & <chr> & <dbl> & <dbl>\\\\\n",
       "\\hline\n",
       "\t1 &  0 & 82a847fffffffff & anteater & 25.05592 & 1032\\\\\n",
       "\t2 &  1 & 82b34ffffffffff & anteater & 22.49401 &  583\\\\\n",
       "\t3 &  3 & 825f2ffffffffff & anteater & 26.42151 & 1672\\\\\n",
       "\t4 &  4 & 82a85ffffffffff & anteater & 25.20945 & 1159\\\\\n",
       "\t5 &  7 & 826657fffffffff & anteater & 26.62739 & 2580\\\\\n",
       "\t6 & 10 & 82a81ffffffffff & anteater & 21.57731 & 1047\\\\\n",
       "\\end{tabular}\n"
      ],
      "text/markdown": [
       "\n",
       "A data.frame: 6 × 5\n",
       "\n",
       "| <!--/--> | X &lt;int&gt; | hex_index2 &lt;chr&gt; | Species &lt;chr&gt; | Annu_Mean_Temp &lt;dbl&gt; | Annu_Prec &lt;dbl&gt; |\n",
       "|---|---|---|---|---|---|\n",
       "| 1 |  0 | 82a847fffffffff | anteater | 25.05592 | 1032 |\n",
       "| 2 |  1 | 82b34ffffffffff | anteater | 22.49401 |  583 |\n",
       "| 3 |  3 | 825f2ffffffffff | anteater | 26.42151 | 1672 |\n",
       "| 4 |  4 | 82a85ffffffffff | anteater | 25.20945 | 1159 |\n",
       "| 5 |  7 | 826657fffffffff | anteater | 26.62739 | 2580 |\n",
       "| 6 | 10 | 82a81ffffffffff | anteater | 21.57731 | 1047 |\n",
       "\n"
      ],
      "text/plain": [
       "  X  hex_index2      Species  Annu_Mean_Temp Annu_Prec\n",
       "1  0 82a847fffffffff anteater 25.05592       1032     \n",
       "2  1 82b34ffffffffff anteater 22.49401        583     \n",
       "3  3 825f2ffffffffff anteater 26.42151       1672     \n",
       "4  4 82a85ffffffffff anteater 25.20945       1159     \n",
       "5  7 826657fffffffff anteater 26.62739       2580     \n",
       "6 10 82a81ffffffffff anteater 21.57731       1047     "
      ]
     },
     "metadata": {},
     "output_type": "display_data"
    }
   ],
   "source": [
    "#obtrain biome of real animals\n",
    "data_RA=read.csv(\"Real_Biome_distributions2.csv\") # THIS  FILE MAY LACK SOME DATA. NEED TO CHECK TOMORROW\n",
    "head(data_RA)"
   ]
  },
  {
   "cell_type": "code",
   "execution_count": 7,
   "id": "fd7bc984-40c7-4ada-9722-f595cb36f397",
   "metadata": {},
   "outputs": [
    {
     "name": "stdout",
     "output_type": "stream",
     "text": [
      "[1] \"anteater\"\n",
      "[1] 192\n",
      " [1] 0.687500000 0.072916667 0.000000000 0.098958333 0.041666667 0.000000000\n",
      " [7] 0.005208333 0.026041667 0.052083333 0.015625000\n"
     ]
    },
    {
     "name": "stderr",
     "output_type": "stream",
     "text": [
      "Warning message in chisq.test(freq, p = p_null, B = 1e+06):\n",
      "“ カイ自乗近似は不正確かもしれません ”\n"
     ]
    },
    {
     "name": "stdout",
     "output_type": "stream",
     "text": [
      "[1] \"badger\"\n",
      "[1] 466\n",
      " [1] 0.137339056 0.139484979 0.002145923 0.008583691 0.328326180 0.006437768\n",
      " [7] 0.070815451 0.098712446 0.203862661 0.004291845\n"
     ]
    },
    {
     "name": "stderr",
     "output_type": "stream",
     "text": [
      "Warning message in chisq.test(freq, p = p_null, B = 1e+06):\n",
      "“ カイ自乗近似は不正確かもしれません ”\n"
     ]
    },
    {
     "name": "stdout",
     "output_type": "stream",
     "text": [
      "[1] \"ground squirrel\"\n",
      "[1] 463\n",
      " [1] 0.144708423 0.215982721 0.000000000 0.006479482 0.254859611 0.028077754\n",
      " [7] 0.056155508 0.183585313 0.095032397 0.015118790\n"
     ]
    },
    {
     "name": "stderr",
     "output_type": "stream",
     "text": [
      "Warning message in chisq.test(freq, p = p_null, B = 1e+06):\n",
      "“ カイ自乗近似は不正確かもしれません ”\n"
     ]
    },
    {
     "name": "stdout",
     "output_type": "stream",
     "text": [
      "[1] \"hawk\"\n",
      "[1] 2114\n",
      " [1] 0.252601703 0.190160833 0.003784295 0.049668874 0.131504257 0.049668874\n",
      " [7] 0.087984863 0.079470199 0.095553453 0.059602649\n",
      "[1] \"mink\"\n",
      "[1] 700\n",
      " [1] 0.077142857 0.022857143 0.002857143 0.020000000 0.328571429 0.014285714\n",
      " [7] 0.182857143 0.074285714 0.251428571 0.025714286\n"
     ]
    },
    {
     "name": "stderr",
     "output_type": "stream",
     "text": [
      "Warning message in chisq.test(freq, p = p_null, B = 1e+06):\n",
      "“ カイ自乗近似は不正確かもしれません ”\n"
     ]
    },
    {
     "name": "stdout",
     "output_type": "stream",
     "text": [
      "[1] \"mouse\"\n",
      "[1] 1155\n",
      " [1] 0.2588744589 0.2095238095 0.0008658009 0.0268398268 0.1861471861\n",
      " [6] 0.0138528139 0.0614718615 0.0909090909 0.1238095238 0.0277056277\n"
     ]
    },
    {
     "name": "stderr",
     "output_type": "stream",
     "text": [
      "Warning message in chisq.test(freq, p = p_null, B = 1e+06):\n",
      "“ カイ自乗近似は不正確かもしれません ”\n"
     ]
    },
    {
     "name": "stdout",
     "output_type": "stream",
     "text": [
      "[1] \"opossum\"\n",
      "[1] 424\n",
      " [1] 0.405660377 0.089622642 0.000000000 0.047169811 0.191037736 0.007075472\n",
      " [7] 0.018867925 0.091981132 0.115566038 0.033018868\n"
     ]
    },
    {
     "name": "stderr",
     "output_type": "stream",
     "text": [
      "Warning message in chisq.test(freq, p = p_null, B = 1e+06):\n",
      "“ カイ自乗近似は不正確かもしれません ”\n"
     ]
    },
    {
     "name": "stdout",
     "output_type": "stream",
     "text": [
      "[1] \"owl\"\n",
      "[1] 1858\n",
      " [1] 0.261571582 0.172766416 0.003767492 0.051130248 0.144779333 0.051668461\n",
      " [7] 0.082346609 0.079655544 0.101722282 0.050592034\n",
      "[1] \"porcupine\"\n",
      "[1] 648\n",
      " [1] 0.37962963 0.14814815 0.00000000 0.04320988 0.13888889 0.02469136\n",
      " [7] 0.08333333 0.08024691 0.09104938 0.01080247\n"
     ]
    },
    {
     "name": "stderr",
     "output_type": "stream",
     "text": [
      "Warning message in chisq.test(freq, p = p_null, B = 1e+06):\n",
      "“ カイ自乗近似は不正確かもしれません ”\n"
     ]
    },
    {
     "name": "stdout",
     "output_type": "stream",
     "text": [
      "[1] \"rabbit\"\n",
      "[1] 1242\n",
      " [1] 0.186795491 0.179549114 0.003220612 0.014492754 0.191626409 0.053945250\n",
      " [7] 0.099838969 0.099838969 0.132045089 0.038647343\n"
     ]
    },
    {
     "name": "stderr",
     "output_type": "stream",
     "text": [
      "Warning message in chisq.test(freq, p = p_null, B = 1e+06):\n",
      "“ カイ自乗近似は不正確かもしれません ”\n"
     ]
    },
    {
     "name": "stdout",
     "output_type": "stream",
     "text": [
      "[1] \"raccoon\"\n",
      "[1] 263\n",
      " [1] 0.17490494 0.06844106 0.00000000 0.02281369 0.30418251 0.00000000\n",
      " [7] 0.05703422 0.09885932 0.25475285 0.01901141\n"
     ]
    },
    {
     "name": "stderr",
     "output_type": "stream",
     "text": [
      "Warning message in chisq.test(freq, p = p_null, B = 1e+06):\n",
      "“ カイ自乗近似は不正確かもしれません ”\n"
     ]
    },
    {
     "name": "stdout",
     "output_type": "stream",
     "text": [
      "[1] \"rat\"\n",
      "[1] 1099\n",
      " [1] 0.315741583 0.140127389 0.003639672 0.074613285 0.178343949 0.005459509\n",
      " [7] 0.040946315 0.069153776 0.136487716 0.035486806\n"
     ]
    },
    {
     "name": "stderr",
     "output_type": "stream",
     "text": [
      "Warning message in chisq.test(freq, p = p_null, B = 1e+06):\n",
      "“ カイ自乗近似は不正確かもしれません ”\n"
     ]
    },
    {
     "name": "stdout",
     "output_type": "stream",
     "text": [
      "[1] \"raven\"\n",
      "[1] 1188\n",
      " [1] 0.073232323 0.236531987 0.003367003 0.003367003 0.170875421 0.083333333\n",
      " [7] 0.148989899 0.111111111 0.112794613 0.056397306\n"
     ]
    },
    {
     "name": "stderr",
     "output_type": "stream",
     "text": [
      "Warning message in chisq.test(freq, p = p_null, B = 1e+06):\n",
      "“ カイ自乗近似は不正確かもしれません ”\n"
     ]
    },
    {
     "name": "stdout",
     "output_type": "stream",
     "text": [
      "[1] \"skunk\"\n",
      "[1] 310\n",
      " [1] 0.209677419 0.116129032 0.000000000 0.029032258 0.251612903 0.000000000\n",
      " [7] 0.074193548 0.141935484 0.170967742 0.006451613\n"
     ]
    },
    {
     "name": "stderr",
     "output_type": "stream",
     "text": [
      "Warning message in chisq.test(freq, p = p_null, B = 1e+06):\n",
      "“ カイ自乗近似は不正確かもしれません ”\n"
     ]
    },
    {
     "name": "stdout",
     "output_type": "stream",
     "text": [
      "[1] \"spider\"\n",
      "[1] 3816\n",
      " [1] 0.271488470 0.161949686 0.003144654 0.053983229 0.136268344 0.034591195\n",
      " [7] 0.073375262 0.076519916 0.102725367 0.085953878\n",
      "[1] \"wren\"\n",
      "[1] 1117\n",
      " [1] 0.198746643 0.132497762 0.007162041 0.034019696 0.210384960 0.013428827\n",
      " [7] 0.102059087 0.094897046 0.158460161 0.048343778\n"
     ]
    },
    {
     "name": "stderr",
     "output_type": "stream",
     "text": [
      "Warning message in chisq.test(freq, p = p_null, B = 1e+06):\n",
      "“ カイ自乗近似は不正確かもしれません ”\n"
     ]
    },
    {
     "data": {
      "text/html": [
       "<style>\n",
       ".list-inline {list-style: none; margin:0; padding: 0}\n",
       ".list-inline>li {display: inline-block}\n",
       ".list-inline>li:not(:last-child)::after {content: \"\\00b7\"; padding: 0 .5ex}\n",
       "</style>\n",
       "<ol class=list-inline><li>1.14553087548186e-47</li><li>1.42203183246495e-27</li><li>5.2791838308917e-22</li><li>2.60471466144227e-12</li><li>1.0201928190737e-90</li><li>5.21991744611038e-09</li><li>6.48254370998601e-17</li><li>4.8408744082306e-07</li><li>6.51478135565414e-15</li><li>5.81107847345611e-10</li><li>3.27116073003397e-17</li><li>4.68328655865572e-22</li><li>2.16469342037942e-73</li><li>8.63363298756136e-09</li><li>2.32405179353357e-36</li><li>2.30640189234056e-09</li></ol>\n"
      ],
      "text/latex": [
       "\\begin{enumerate*}\n",
       "\\item 1.14553087548186e-47\n",
       "\\item 1.42203183246495e-27\n",
       "\\item 5.2791838308917e-22\n",
       "\\item 2.60471466144227e-12\n",
       "\\item 1.0201928190737e-90\n",
       "\\item 5.21991744611038e-09\n",
       "\\item 6.48254370998601e-17\n",
       "\\item 4.8408744082306e-07\n",
       "\\item 6.51478135565414e-15\n",
       "\\item 5.81107847345611e-10\n",
       "\\item 3.27116073003397e-17\n",
       "\\item 4.68328655865572e-22\n",
       "\\item 2.16469342037942e-73\n",
       "\\item 8.63363298756136e-09\n",
       "\\item 2.32405179353357e-36\n",
       "\\item 2.30640189234056e-09\n",
       "\\end{enumerate*}\n"
      ],
      "text/markdown": [
       "1. 1.14553087548186e-47\n",
       "2. 1.42203183246495e-27\n",
       "3. 5.2791838308917e-22\n",
       "4. 2.60471466144227e-12\n",
       "5. 1.0201928190737e-90\n",
       "6. 5.21991744611038e-09\n",
       "7. 6.48254370998601e-17\n",
       "8. 4.8408744082306e-07\n",
       "9. 6.51478135565414e-15\n",
       "10. 5.81107847345611e-10\n",
       "11. 3.27116073003397e-17\n",
       "12. 4.68328655865572e-22\n",
       "13. 2.16469342037942e-73\n",
       "14. 8.63363298756136e-09\n",
       "15. 2.32405179353357e-36\n",
       "16. 2.30640189234056e-09\n",
       "\n",
       "\n"
      ],
      "text/plain": [
       " [1] 1.145531e-47 1.422032e-27 5.279184e-22 2.604715e-12 1.020193e-90\n",
       " [6] 5.219917e-09 6.482544e-17 4.840874e-07 6.514781e-15 5.811078e-10\n",
       "[11] 3.271161e-17 4.683287e-22 2.164693e-73 8.633633e-09 2.324052e-36\n",
       "[16] 2.306402e-09"
      ]
     },
     "metadata": {},
     "output_type": "display_data"
    }
   ],
   "source": [
    "# TEST 1 compare distirbution of real animals vs null distributions\n",
    "# is the distributions of RAs differ from null\n",
    "pvals=c()\n",
    "species=unique(data_RA$Species)\n",
    "for (i in 1:length(species))\n",
    "    {\n",
    "    print(species[i])\n",
    "    \n",
    "    d=data_RA[data_RA$Species==species[i],]\n",
    "    d=Biome_class(d)\n",
    "    print(nrow(d))\n",
    "    freq=c(nrow(d[d$biome_id==1,]),nrow(d[d$biome_id==2,]),\n",
    "           nrow(d[d$biome_id==3,]), nrow(d[d$biome_id==4,]),\n",
    "           nrow(d[d$biome_id==5,]), nrow(d[d$biome_id==6,]),\n",
    "           nrow(d[d$biome_id==7,]),nrow(d[d$biome_id==8,]),\n",
    "           nrow(d[d$biome_id==9,]),nrow(d[d$biome_id==10,]))\n",
    "    print(freq/sum(freq))\n",
    "    #ans= multinomial.test(freq, p_null, MonteCarlo = TRUE)      \n",
    "    ans=chisq.test(freq, p=p_null, B=1000000) \n",
    "    #print(ans)\n",
    "    pvals=c(pvals, ans$p.value)\n",
    "    }\n",
    "p.adjust(pvals, 'fdr')"
   ]
  },
  {
   "cell_type": "code",
   "execution_count": 17,
   "id": "32f9dfbf-855b-4e1a-b7e5-47df73c5c67e",
   "metadata": {},
   "outputs": [
    {
     "data": {
      "text/html": [
       "<style>\n",
       ".list-inline {list-style: none; margin:0; padding: 0}\n",
       ".list-inline>li {display: inline-block}\n",
       ".list-inline>li:not(:last-child)::after {content: \"\\00b7\"; padding: 0 .5ex}\n",
       "</style>\n",
       "<ol class=list-inline><li>TRUE</li><li>TRUE</li><li>TRUE</li><li>TRUE</li><li>TRUE</li><li>TRUE</li><li>TRUE</li><li>TRUE</li><li>TRUE</li><li>TRUE</li><li>TRUE</li><li>TRUE</li><li>TRUE</li><li>TRUE</li><li>TRUE</li><li>TRUE</li></ol>\n"
      ],
      "text/latex": [
       "\\begin{enumerate*}\n",
       "\\item TRUE\n",
       "\\item TRUE\n",
       "\\item TRUE\n",
       "\\item TRUE\n",
       "\\item TRUE\n",
       "\\item TRUE\n",
       "\\item TRUE\n",
       "\\item TRUE\n",
       "\\item TRUE\n",
       "\\item TRUE\n",
       "\\item TRUE\n",
       "\\item TRUE\n",
       "\\item TRUE\n",
       "\\item TRUE\n",
       "\\item TRUE\n",
       "\\item TRUE\n",
       "\\end{enumerate*}\n"
      ],
      "text/markdown": [
       "1. TRUE\n",
       "2. TRUE\n",
       "3. TRUE\n",
       "4. TRUE\n",
       "5. TRUE\n",
       "6. TRUE\n",
       "7. TRUE\n",
       "8. TRUE\n",
       "9. TRUE\n",
       "10. TRUE\n",
       "11. TRUE\n",
       "12. TRUE\n",
       "13. TRUE\n",
       "14. TRUE\n",
       "15. TRUE\n",
       "16. TRUE\n",
       "\n",
       "\n"
      ],
      "text/plain": [
       " [1] TRUE TRUE TRUE TRUE TRUE TRUE TRUE TRUE TRUE TRUE TRUE TRUE TRUE TRUE TRUE\n",
       "[16] TRUE"
      ]
     },
     "metadata": {},
     "output_type": "display_data"
    }
   ],
   "source": [
    "p.adjust(pvals, 'fdr')<0.05"
   ]
  },
  {
   "cell_type": "code",
   "execution_count": 8,
   "id": "47f0c579-3ea2-4188-b8b4-b707a3ea6dc6",
   "metadata": {},
   "outputs": [
    {
     "name": "stdout",
     "output_type": "stream",
     "text": [
      "[1] \"raven\"\n",
      "[1] 79\n",
      " [1] 0.05063291 0.01265823 0.00000000 0.01265823 0.05063291 0.29113924\n",
      " [7] 0.24050633 0.03797468 0.07594937 0.22784810\n"
     ]
    },
    {
     "name": "stderr",
     "output_type": "stream",
     "text": [
      "Warning message in chisq.test(freq, p = p_null, B = 1e+06):\n",
      "“ カイ自乗近似は不正確かもしれません ”\n"
     ]
    },
    {
     "name": "stdout",
     "output_type": "stream",
     "text": [
      "\n",
      "\tChi-squared test for given probabilities\n",
      "\n",
      "data:  freq\n",
      "X-squared = 261.82, df = 9, p-value < 2.2e-16\n",
      "\n",
      "[1] \"skunk\"\n",
      "[1] 12\n",
      " [1] 0.0000000 0.0000000 0.0000000 0.0000000 0.1666667 0.0000000 0.1666667\n",
      " [8] 0.0000000 0.3333333 0.3333333\n"
     ]
    },
    {
     "name": "stderr",
     "output_type": "stream",
     "text": [
      "Warning message in chisq.test(freq, p = p_null, B = 1e+06):\n",
      "“ カイ自乗近似は不正確かもしれません ”\n"
     ]
    },
    {
     "name": "stdout",
     "output_type": "stream",
     "text": [
      "\n",
      "\tChi-squared test for given probabilities\n",
      "\n",
      "data:  freq\n",
      "X-squared = 31.541, df = 9, p-value = 0.000239\n",
      "\n",
      "[1] \"mink\"\n",
      "[1] 9\n",
      " [1] 0.0000000 0.0000000 0.0000000 0.0000000 0.2222222 0.0000000 0.0000000\n",
      " [8] 0.0000000 0.4444444 0.3333333\n"
     ]
    },
    {
     "name": "stderr",
     "output_type": "stream",
     "text": [
      "Warning message in chisq.test(freq, p = p_null, B = 1e+06):\n",
      "“ カイ自乗近似は不正確かもしれません ”\n"
     ]
    },
    {
     "name": "stdout",
     "output_type": "stream",
     "text": [
      "\n",
      "\tChi-squared test for given probabilities\n",
      "\n",
      "data:  freq\n",
      "X-squared = 28.104, df = 9, p-value = 0.0009166\n",
      "\n",
      "[1] \"rabbit\"\n",
      "[1] 190\n",
      " [1] 0.36315789 0.11052632 0.00000000 0.03157895 0.15263158 0.01052632\n",
      " [7] 0.07368421 0.07368421 0.11578947 0.06842105\n"
     ]
    },
    {
     "name": "stderr",
     "output_type": "stream",
     "text": [
      "Warning message in chisq.test(freq, p = p_null, B = 1e+06):\n",
      "“ カイ自乗近似は不正確かもしれません ”\n"
     ]
    },
    {
     "name": "stdout",
     "output_type": "stream",
     "text": [
      "\n",
      "\tChi-squared test for given probabilities\n",
      "\n",
      "data:  freq\n",
      "X-squared = 21.927, df = 9, p-value = 0.009114\n",
      "\n",
      "[1] \"owl\"\n",
      "[1] 14\n",
      " [1] 0.28571429 0.14285714 0.00000000 0.00000000 0.07142857 0.14285714\n",
      " [7] 0.00000000 0.00000000 0.28571429 0.07142857\n"
     ]
    },
    {
     "name": "stderr",
     "output_type": "stream",
     "text": [
      "Warning message in chisq.test(freq, p = p_null, B = 1e+06):\n",
      "“ カイ自乗近似は不正確かもしれません ”\n"
     ]
    },
    {
     "name": "stdout",
     "output_type": "stream",
     "text": [
      "\n",
      "\tChi-squared test for given probabilities\n",
      "\n",
      "data:  freq\n",
      "X-squared = 12.023, df = 9, p-value = 0.212\n",
      "\n",
      "[1] \"hawk\"\n",
      "[1] 13\n",
      " [1] 0.23076923 0.23076923 0.00000000 0.00000000 0.15384615 0.15384615\n",
      " [7] 0.00000000 0.07692308 0.07692308 0.07692308\n"
     ]
    },
    {
     "name": "stderr",
     "output_type": "stream",
     "text": [
      "Warning message in chisq.test(freq, p = p_null, B = 1e+06):\n",
      "“ カイ自乗近似は不正確かもしれません ”\n"
     ]
    },
    {
     "name": "stdout",
     "output_type": "stream",
     "text": [
      "\n",
      "\tChi-squared test for given probabilities\n",
      "\n",
      "data:  freq\n",
      "X-squared = 7.982, df = 9, p-value = 0.536\n",
      "\n",
      "[1] \"opossum\"\n",
      "[1] 25\n",
      " [1] 0.60 0.00 0.00 0.32 0.00 0.00 0.00 0.00 0.04 0.04\n"
     ]
    },
    {
     "name": "stderr",
     "output_type": "stream",
     "text": [
      "Warning message in chisq.test(freq, p = p_null, B = 1e+06):\n",
      "“ カイ自乗近似は不正確かもしれません ”\n"
     ]
    },
    {
     "name": "stdout",
     "output_type": "stream",
     "text": [
      "\n",
      "\tChi-squared test for given probabilities\n",
      "\n",
      "data:  freq\n",
      "X-squared = 77.688, df = 9, p-value = 4.647e-13\n",
      "\n",
      "[1] \"rat\"\n",
      "[1] 17\n",
      " [1] 0.1176471 0.1764706 0.0000000 0.0000000 0.1176471 0.0000000 0.0000000\n",
      " [8] 0.1176471 0.0000000 0.4705882\n"
     ]
    },
    {
     "name": "stderr",
     "output_type": "stream",
     "text": [
      "Warning message in chisq.test(freq, p = p_null, B = 1e+06):\n",
      "“ カイ自乗近似は不正確かもしれません ”\n"
     ]
    },
    {
     "name": "stdout",
     "output_type": "stream",
     "text": [
      "\n",
      "\tChi-squared test for given probabilities\n",
      "\n",
      "data:  freq\n",
      "X-squared = 67.15, df = 9, p-value = 5.498e-11\n",
      "\n",
      "[1] \"mouse\"\n",
      "[1] 12\n",
      " [1] 0.08333333 0.00000000 0.00000000 0.00000000 0.08333333 0.25000000\n",
      " [7] 0.50000000 0.08333333 0.00000000 0.00000000\n"
     ]
    },
    {
     "name": "stderr",
     "output_type": "stream",
     "text": [
      "Warning message in chisq.test(freq, p = p_null, B = 1e+06):\n",
      "“ カイ自乗近似は不正確かもしれません ”\n"
     ]
    },
    {
     "name": "stdout",
     "output_type": "stream",
     "text": [
      "\n",
      "\tChi-squared test for given probabilities\n",
      "\n",
      "data:  freq\n",
      "X-squared = 47.367, df = 9, p-value = 3.353e-07\n",
      "\n",
      "[1] \"ground squirrel\"\n",
      "[1] 6\n",
      " [1] 0.5 0.5 0.0 0.0 0.0 0.0 0.0 0.0 0.0 0.0\n"
     ]
    },
    {
     "name": "stderr",
     "output_type": "stream",
     "text": [
      "Warning message in chisq.test(freq, p = p_null, B = 1e+06):\n",
      "“ カイ自乗近似は不正確かもしれません ”\n"
     ]
    },
    {
     "name": "stdout",
     "output_type": "stream",
     "text": [
      "\n",
      "\tChi-squared test for given probabilities\n",
      "\n",
      "data:  freq\n",
      "X-squared = 9.4853, df = 9, p-value = 0.3937\n",
      "\n",
      "[1] \"spider\"\n",
      "[1] 23\n",
      " [1] 0.52173913 0.04347826 0.00000000 0.13043478 0.21739130 0.00000000\n",
      " [7] 0.00000000 0.00000000 0.04347826 0.04347826\n"
     ]
    },
    {
     "name": "stderr",
     "output_type": "stream",
     "text": [
      "Warning message in chisq.test(freq, p = p_null, B = 1e+06):\n",
      "“ カイ自乗近似は不正確かもしれません ”\n"
     ]
    },
    {
     "name": "stdout",
     "output_type": "stream",
     "text": [
      "\n",
      "\tChi-squared test for given probabilities\n",
      "\n",
      "data:  freq\n",
      "X-squared = 20.592, df = 9, p-value = 0.01459\n",
      "\n",
      "[1] \"raccoon\"\n",
      "[1] 9\n",
      " [1] 0.0000000 0.0000000 0.0000000 0.0000000 0.1111111 0.0000000 0.0000000\n",
      " [8] 0.2222222 0.5555556 0.1111111\n"
     ]
    },
    {
     "name": "stderr",
     "output_type": "stream",
     "text": [
      "Warning message in chisq.test(freq, p = p_null, B = 1e+06):\n",
      "“ カイ自乗近似は不正確かもしれません ”\n"
     ]
    },
    {
     "name": "stdout",
     "output_type": "stream",
     "text": [
      "\n",
      "\tChi-squared test for given probabilities\n",
      "\n",
      "data:  freq\n",
      "X-squared = 21.443, df = 9, p-value = 0.01082\n",
      "\n",
      "[1] \"anteater\"\n",
      "[1] 10\n",
      " [1] 0.9 0.0 0.0 0.1 0.0 0.0 0.0 0.0 0.0 0.0\n"
     ]
    },
    {
     "name": "stderr",
     "output_type": "stream",
     "text": [
      "Warning message in chisq.test(freq, p = p_null, B = 1e+06):\n",
      "“ カイ自乗近似は不正確かもしれません ”\n"
     ]
    },
    {
     "name": "stdout",
     "output_type": "stream",
     "text": [
      "\n",
      "\tChi-squared test for given probabilities\n",
      "\n",
      "data:  freq\n",
      "X-squared = 26.285, df = 9, p-value = 0.001834\n",
      "\n",
      "[1] \"porcupine\"\n",
      "[1] 18\n",
      " [1] 0.05555556 0.05555556 0.00000000 0.00000000 0.33333333 0.00000000\n",
      " [7] 0.05555556 0.38888889 0.05555556 0.05555556\n"
     ]
    },
    {
     "name": "stderr",
     "output_type": "stream",
     "text": [
      "Warning message in chisq.test(freq, p = p_null, B = 1e+06):\n",
      "“ カイ自乗近似は不正確かもしれません ”\n"
     ]
    },
    {
     "name": "stdout",
     "output_type": "stream",
     "text": [
      "\n",
      "\tChi-squared test for given probabilities\n",
      "\n",
      "data:  freq\n",
      "X-squared = 27.155, df = 9, p-value = 0.001319\n",
      "\n",
      "[1] \"badger\"\n",
      "[1] 9\n",
      " [1] 0.1111111 0.1111111 0.0000000 0.0000000 0.2222222 0.0000000 0.0000000\n",
      " [8] 0.3333333 0.1111111 0.1111111\n"
     ]
    },
    {
     "name": "stderr",
     "output_type": "stream",
     "text": [
      "Warning message in chisq.test(freq, p = p_null, B = 1e+06):\n",
      "“ カイ自乗近似は不正確かもしれません ”\n"
     ]
    },
    {
     "name": "stdout",
     "output_type": "stream",
     "text": [
      "\n",
      "\tChi-squared test for given probabilities\n",
      "\n",
      "data:  freq\n",
      "X-squared = 9.1911, df = 9, p-value = 0.4198\n",
      "\n",
      "[1] \"wren\"\n",
      "[1] 9\n",
      " [1] 0.0000000 0.0000000 0.0000000 0.0000000 0.1111111 0.0000000 0.1111111\n",
      " [8] 0.0000000 0.3333333 0.4444444\n"
     ]
    },
    {
     "name": "stderr",
     "output_type": "stream",
     "text": [
      "Warning message in chisq.test(freq, p = p_null, B = 1e+06):\n",
      "“ カイ自乗近似は不正確かもしれません ”\n"
     ]
    },
    {
     "name": "stdout",
     "output_type": "stream",
     "text": [
      "\n",
      "\tChi-squared test for given probabilities\n",
      "\n",
      "data:  freq\n",
      "X-squared = 36.896, df = 9, p-value = 2.746e-05\n",
      "\n"
     ]
    },
    {
     "data": {
      "text/html": [
       "<style>\n",
       ".list-inline {list-style: none; margin:0; padding: 0}\n",
       ".list-inline>li {display: inline-block}\n",
       ".list-inline>li:not(:last-child)::after {content: \"\\00b7\"; padding: 0 .5ex}\n",
       "</style>\n",
       "<ol class=list-inline><li>5.0739588678312e-50</li><li>0.000637273919176414</li><li>0.00209499746930132</li><li>0.0145816578852786</li><li>0.260955472099346</li><li>0.535957290149593</li><li>3.71727566440698e-12</li><li>2.93230788990748e-10</li><li>1.34128325916153e-06</li><li>0.447812601775212</li><li>0.019457134202591</li><li>0.0157398855832127</li><li>0.00326117063221169</li><li>0.00263723170497894</li><li>0.447812601775212</li><li>8.78802063155444e-05</li></ol>\n"
      ],
      "text/latex": [
       "\\begin{enumerate*}\n",
       "\\item 5.0739588678312e-50\n",
       "\\item 0.000637273919176414\n",
       "\\item 0.00209499746930132\n",
       "\\item 0.0145816578852786\n",
       "\\item 0.260955472099346\n",
       "\\item 0.535957290149593\n",
       "\\item 3.71727566440698e-12\n",
       "\\item 2.93230788990748e-10\n",
       "\\item 1.34128325916153e-06\n",
       "\\item 0.447812601775212\n",
       "\\item 0.019457134202591\n",
       "\\item 0.0157398855832127\n",
       "\\item 0.00326117063221169\n",
       "\\item 0.00263723170497894\n",
       "\\item 0.447812601775212\n",
       "\\item 8.78802063155444e-05\n",
       "\\end{enumerate*}\n"
      ],
      "text/markdown": [
       "1. 5.0739588678312e-50\n",
       "2. 0.000637273919176414\n",
       "3. 0.00209499746930132\n",
       "4. 0.0145816578852786\n",
       "5. 0.260955472099346\n",
       "6. 0.535957290149593\n",
       "7. 3.71727566440698e-12\n",
       "8. 2.93230788990748e-10\n",
       "9. 1.34128325916153e-06\n",
       "10. 0.447812601775212\n",
       "11. 0.019457134202591\n",
       "12. 0.0157398855832127\n",
       "13. 0.00326117063221169\n",
       "14. 0.00263723170497894\n",
       "15. 0.447812601775212\n",
       "16. 8.78802063155444e-05\n",
       "\n",
       "\n"
      ],
      "text/plain": [
       " [1] 5.073959e-50 6.372739e-04 2.094997e-03 1.458166e-02 2.609555e-01\n",
       " [6] 5.359573e-01 3.717276e-12 2.932308e-10 1.341283e-06 4.478126e-01\n",
       "[11] 1.945713e-02 1.573989e-02 3.261171e-03 2.637232e-03 4.478126e-01\n",
       "[16] 8.788021e-05"
      ]
     },
     "metadata": {},
     "output_type": "display_data"
    }
   ],
   "source": [
    "data_TS=read.csv(\"TrickSter_data4.csv\")\n",
    "pvals=c()\n",
    "species=unique(data_TS$TrickSter)\n",
    "for (i in 1:length(species))\n",
    "    {\n",
    "    print(species[i])\n",
    "    \n",
    "    d=data_TS[data_TS$TrickSter==species[i],]\n",
    "    d=Biome_class(d)\n",
    "    print(nrow(d))\n",
    "    freq=c(nrow(d[d$biome_id==1,]),nrow(d[d$biome_id==2,]),\n",
    "           nrow(d[d$biome_id==3,]), nrow(d[d$biome_id==4,]),\n",
    "           nrow(d[d$biome_id==5,]), nrow(d[d$biome_id==6,]),\n",
    "           nrow(d[d$biome_id==7,]),nrow(d[d$biome_id==8,]),\n",
    "           nrow(d[d$biome_id==9,]),nrow(d[d$biome_id==10,]))\n",
    "    print(freq/sum(freq))\n",
    "    #ans= multinomial.test(freq, p_null, MonteCarlo = TRUE)      \n",
    "    ans=chisq.test(freq, p=p_null, B=1000000) # because of rare data, chi squre data seems problem use multi-nominal test\n",
    "    print(ans)\n",
    "    pvals=c(pvals, ans$p.value)\n",
    "    }\n",
    "p.adjust(pvals, 'fdr')"
   ]
  },
  {
   "cell_type": "code",
   "execution_count": 9,
   "id": "77849f39-9ef6-4884-aae6-f3a178c536d1",
   "metadata": {},
   "outputs": [
    {
     "data": {
      "text/html": [
       "<style>\n",
       ".list-inline {list-style: none; margin:0; padding: 0}\n",
       ".list-inline>li {display: inline-block}\n",
       ".list-inline>li:not(:last-child)::after {content: \"\\00b7\"; padding: 0 .5ex}\n",
       "</style>\n",
       "<ol class=list-inline><li>TRUE</li><li>TRUE</li><li>TRUE</li><li>TRUE</li><li>FALSE</li><li>FALSE</li><li>TRUE</li><li>TRUE</li><li>TRUE</li><li>FALSE</li><li>TRUE</li><li>TRUE</li><li>TRUE</li><li>TRUE</li><li>FALSE</li><li>TRUE</li></ol>\n"
      ],
      "text/latex": [
       "\\begin{enumerate*}\n",
       "\\item TRUE\n",
       "\\item TRUE\n",
       "\\item TRUE\n",
       "\\item TRUE\n",
       "\\item FALSE\n",
       "\\item FALSE\n",
       "\\item TRUE\n",
       "\\item TRUE\n",
       "\\item TRUE\n",
       "\\item FALSE\n",
       "\\item TRUE\n",
       "\\item TRUE\n",
       "\\item TRUE\n",
       "\\item TRUE\n",
       "\\item FALSE\n",
       "\\item TRUE\n",
       "\\end{enumerate*}\n"
      ],
      "text/markdown": [
       "1. TRUE\n",
       "2. TRUE\n",
       "3. TRUE\n",
       "4. TRUE\n",
       "5. FALSE\n",
       "6. FALSE\n",
       "7. TRUE\n",
       "8. TRUE\n",
       "9. TRUE\n",
       "10. FALSE\n",
       "11. TRUE\n",
       "12. TRUE\n",
       "13. TRUE\n",
       "14. TRUE\n",
       "15. FALSE\n",
       "16. TRUE\n",
       "\n",
       "\n"
      ],
      "text/plain": [
       " [1]  TRUE  TRUE  TRUE  TRUE FALSE FALSE  TRUE  TRUE  TRUE FALSE  TRUE  TRUE\n",
       "[13]  TRUE  TRUE FALSE  TRUE"
      ]
     },
     "metadata": {},
     "output_type": "display_data"
    }
   ],
   "source": [
    "p.adjust(pvals, 'fdr')<0.05"
   ]
  },
  {
   "cell_type": "code",
   "execution_count": 10,
   "id": "3ecbb324-181c-409e-bedb-074a26e4ab31",
   "metadata": {},
   "outputs": [
    {
     "name": "stdout",
     "output_type": "stream",
     "text": [
      "[1] \"raven\"\n"
     ]
    },
    {
     "name": "stderr",
     "output_type": "stream",
     "text": [
      "Warning message in chisq.test(freq_TS, p = freq_RA, B = 1e+06):\n",
      "“ カイ自乗近似は不正確かもしれません ”\n"
     ]
    },
    {
     "name": "stdout",
     "output_type": "stream",
     "text": [
      "[1] 0.9972327\n",
      "[1] \"skunk\"\n"
     ]
    },
    {
     "name": "stderr",
     "output_type": "stream",
     "text": [
      "Warning message in chisq.test(freq_TS[-c(drop)], p = freq_RA[-c(drop)], B = 1e+06):\n",
      "“ カイ自乗近似は不正確かもしれません ”\n"
     ]
    },
    {
     "name": "stdout",
     "output_type": "stream",
     "text": [
      "[1] 0.01523418\n",
      "[1] \"mink\"\n"
     ]
    },
    {
     "name": "stderr",
     "output_type": "stream",
     "text": [
      "Warning message in chisq.test(freq_TS, p = freq_RA, B = 1e+06):\n",
      "“ カイ自乗近似は不正確かもしれません ”\n"
     ]
    },
    {
     "name": "stdout",
     "output_type": "stream",
     "text": [
      "[1] 0.8937038\n",
      "[1] \"rabbit\"\n"
     ]
    },
    {
     "name": "stderr",
     "output_type": "stream",
     "text": [
      "Warning message in chisq.test(freq_TS, p = freq_RA, B = 1e+06):\n",
      "“ カイ自乗近似は不正確かもしれません ”\n"
     ]
    },
    {
     "name": "stdout",
     "output_type": "stream",
     "text": [
      "[1] 0.9999968\n",
      "[1] \"owl\"\n"
     ]
    },
    {
     "name": "stderr",
     "output_type": "stream",
     "text": [
      "Warning message in chisq.test(freq_TS, p = freq_RA, B = 1e+06):\n",
      "“ カイ自乗近似は不正確かもしれません ”\n"
     ]
    },
    {
     "name": "stdout",
     "output_type": "stream",
     "text": [
      "[1] 0.999816\n",
      "[1] \"hawk\"\n"
     ]
    },
    {
     "name": "stderr",
     "output_type": "stream",
     "text": [
      "Warning message in chisq.test(freq_TS, p = freq_RA, B = 1e+06):\n",
      "“ カイ自乗近似は不正確かもしれません ”\n"
     ]
    },
    {
     "name": "stdout",
     "output_type": "stream",
     "text": [
      "[1] 0.9999904\n",
      "[1] \"opossum\"\n"
     ]
    },
    {
     "name": "stderr",
     "output_type": "stream",
     "text": [
      "Warning message in chisq.test(freq_TS[-c(drop)], p = freq_RA[-c(drop)], B = 1e+06):\n",
      "“ カイ自乗近似は不正確かもしれません ”\n"
     ]
    },
    {
     "name": "stdout",
     "output_type": "stream",
     "text": [
      "[1] 0.9770888\n",
      "[1] \"rat\"\n"
     ]
    },
    {
     "name": "stderr",
     "output_type": "stream",
     "text": [
      "Warning message in chisq.test(freq_TS, p = freq_RA, B = 1e+06):\n",
      "“ カイ自乗近似は不正確かもしれません ”\n"
     ]
    },
    {
     "name": "stdout",
     "output_type": "stream",
     "text": [
      "[1] 0.7613004\n",
      "[1] \"mouse\"\n"
     ]
    },
    {
     "name": "stderr",
     "output_type": "stream",
     "text": [
      "Warning message in chisq.test(freq_TS, p = freq_RA, B = 1e+06):\n",
      "“ カイ自乗近似は不正確かもしれません ”\n"
     ]
    },
    {
     "name": "stdout",
     "output_type": "stream",
     "text": [
      "[1] 0.562679\n",
      "[1] \"ground squirrel\"\n"
     ]
    },
    {
     "name": "stderr",
     "output_type": "stream",
     "text": [
      "Warning message in chisq.test(freq_TS[-c(drop)], p = freq_RA[-c(drop)], B = 1e+06):\n",
      "“ カイ自乗近似は不正確かもしれません ”\n"
     ]
    },
    {
     "name": "stdout",
     "output_type": "stream",
     "text": [
      "[1] 0.9843336\n",
      "[1] \"spider\"\n"
     ]
    },
    {
     "name": "stderr",
     "output_type": "stream",
     "text": [
      "Warning message in chisq.test(freq_TS, p = freq_RA, B = 1e+06):\n",
      "“ カイ自乗近似は不正確かもしれません ”\n"
     ]
    },
    {
     "name": "stdout",
     "output_type": "stream",
     "text": [
      "[1] 0.9998591\n",
      "[1] \"raccoon\"\n"
     ]
    },
    {
     "name": "stderr",
     "output_type": "stream",
     "text": [
      "Warning message in chisq.test(freq_TS[-c(drop)], p = freq_RA[-c(drop)], B = 1e+06):\n",
      "“ カイ自乗近似は不正確かもしれません ”\n"
     ]
    },
    {
     "name": "stdout",
     "output_type": "stream",
     "text": [
      "[1] 0.9855397\n",
      "[1] \"anteater\"\n"
     ]
    },
    {
     "name": "stderr",
     "output_type": "stream",
     "text": [
      "Warning message in chisq.test(freq_TS[-c(drop)], p = freq_RA[-c(drop)], B = 1e+06):\n",
      "“ カイ自乗近似は不正確かもしれません ”\n"
     ]
    },
    {
     "name": "stdout",
     "output_type": "stream",
     "text": [
      "[1] 0.9999215\n",
      "[1] \"porcupine\"\n"
     ]
    },
    {
     "name": "stderr",
     "output_type": "stream",
     "text": [
      "Warning message in chisq.test(freq_TS[-c(drop)], p = freq_RA[-c(drop)], B = 1e+06):\n",
      "“ カイ自乗近似は不正確かもしれません ”\n"
     ]
    },
    {
     "name": "stdout",
     "output_type": "stream",
     "text": [
      "[1] 0.9787829\n",
      "[1] \"badger\"\n"
     ]
    },
    {
     "name": "stderr",
     "output_type": "stream",
     "text": [
      "Warning message in chisq.test(freq_TS, p = freq_RA, B = 1e+06):\n",
      "“ カイ自乗近似は不正確かもしれません ”\n"
     ]
    },
    {
     "name": "stdout",
     "output_type": "stream",
     "text": [
      "[1] 0.9467336\n",
      "[1] \"wren\"\n"
     ]
    },
    {
     "name": "stderr",
     "output_type": "stream",
     "text": [
      "Warning message in chisq.test(freq_TS, p = freq_RA, B = 1e+06):\n",
      "“ カイ自乗近似は不正確かもしれません ”\n"
     ]
    },
    {
     "name": "stdout",
     "output_type": "stream",
     "text": [
      "[1] 0.9135839\n"
     ]
    },
    {
     "data": {
      "text/html": [
       "<style>\n",
       ".list-inline {list-style: none; margin:0; padding: 0}\n",
       ".list-inline>li {display: inline-block}\n",
       ".list-inline>li:not(:last-child)::after {content: \"\\00b7\"; padding: 0 .5ex}\n",
       "</style>\n",
       "<ol class=list-inline><li>0.999996784643606</li><li>0.243746860207216</li><li>0.999996784643606</li><li>0.999996784643606</li><li>0.999996784643606</li><li>0.999996784643606</li><li>0.999996784643606</li><li>0.999996784643606</li><li>0.999996784643606</li><li>0.999996784643606</li><li>0.999996784643606</li><li>0.999996784643606</li><li>0.999996784643606</li><li>0.999996784643606</li><li>0.999996784643606</li><li>0.999996784643606</li></ol>\n"
      ],
      "text/latex": [
       "\\begin{enumerate*}\n",
       "\\item 0.999996784643606\n",
       "\\item 0.243746860207216\n",
       "\\item 0.999996784643606\n",
       "\\item 0.999996784643606\n",
       "\\item 0.999996784643606\n",
       "\\item 0.999996784643606\n",
       "\\item 0.999996784643606\n",
       "\\item 0.999996784643606\n",
       "\\item 0.999996784643606\n",
       "\\item 0.999996784643606\n",
       "\\item 0.999996784643606\n",
       "\\item 0.999996784643606\n",
       "\\item 0.999996784643606\n",
       "\\item 0.999996784643606\n",
       "\\item 0.999996784643606\n",
       "\\item 0.999996784643606\n",
       "\\end{enumerate*}\n"
      ],
      "text/markdown": [
       "1. 0.999996784643606\n",
       "2. 0.243746860207216\n",
       "3. 0.999996784643606\n",
       "4. 0.999996784643606\n",
       "5. 0.999996784643606\n",
       "6. 0.999996784643606\n",
       "7. 0.999996784643606\n",
       "8. 0.999996784643606\n",
       "9. 0.999996784643606\n",
       "10. 0.999996784643606\n",
       "11. 0.999996784643606\n",
       "12. 0.999996784643606\n",
       "13. 0.999996784643606\n",
       "14. 0.999996784643606\n",
       "15. 0.999996784643606\n",
       "16. 0.999996784643606\n",
       "\n",
       "\n"
      ],
      "text/plain": [
       " [1] 0.9999968 0.2437469 0.9999968 0.9999968 0.9999968 0.9999968 0.9999968\n",
       " [8] 0.9999968 0.9999968 0.9999968 0.9999968 0.9999968 0.9999968 0.9999968\n",
       "[15] 0.9999968 0.9999968"
      ]
     },
     "metadata": {},
     "output_type": "display_data"
    }
   ],
   "source": [
    "# Trcikster vs real animals\n",
    "data_RA=read.csv(\"Real_Biome_distributions2.csv\")\n",
    "data_TS=read.csv(\"TrickSter_data4.csv\")\n",
    "vals=c()\n",
    "for (i in 1:length(species)){\n",
    "    target=species[i]\n",
    "    print(target)\n",
    "    d_RA=data_RA[data_RA$Species==target,]\n",
    "    d_TS=data_TS[data_TS$TrickSter==target, ]\n",
    "    \n",
    "    \n",
    "    d_RA=Biome_class(d_RA)\n",
    "    freq_RA=c(nrow(d_RA[d_RA$biome_id==1,]),nrow(d_RA[d_RA$biome_id==2,]),\n",
    "           nrow(d_RA[d_RA$biome_id==3,]), nrow(d_RA[d_RA$biome_id==4,]),\n",
    "           nrow(d_RA[d_RA$biome_id==5,]), nrow(d_RA[d_RA$biome_id==6,]),\n",
    "           nrow(d_RA[d_RA$biome_id==7,]),nrow(d_RA[d_RA$biome_id==8,]),\n",
    "           nrow(d_RA[d_RA$biome_id==9,]),nrow(d_RA[d_RA$biome_id==10,]))\n",
    "    freq_RA=freq_RA/sum(freq_RA)\n",
    "    \n",
    "    d_TS=Biome_class(d_TS)\n",
    "    freq_TS=c(nrow(d_TS[d_TS$biome_id==1,]),nrow(d_TS[d_TS$biome_id==2,]),\n",
    "           nrow(d_TS[d_TS$biome_id==3,]), nrow(d_TS[d_TS$biome_id==4,]),\n",
    "           nrow(d_TS[d_TS$biome_id==5,]), nrow(d_TS[d_TS$biome_id==6,]),\n",
    "           nrow(d_TS[d_TS$biome_id==7,]),nrow(d_TS[d_TS$biome_id==8,]),\n",
    "           nrow(d_TS[d_TS$biome_id==9,]),nrow(d_TS[d_TS$biome_id==10,]))\n",
    "    freq_TS=freq_TS/sum(freq_TS)\n",
    "\n",
    "    \n",
    "    drop=c()\n",
    "    for (i in 1:10){\n",
    "       if (freq_TS[i]==0 && freq_RA[i]==0){\n",
    "           drop=c(drop, i)\n",
    "       }\n",
    "    }\n",
    "\n",
    "\n",
    "    if(length(drop)>0){\n",
    "        ans=chisq.test(freq_TS[-c(drop)], p=freq_RA[-c(drop)], B=1000000)\n",
    "        } else{\n",
    "    ans=chisq.test(freq_TS, p=freq_RA, B=1000000)\n",
    "    }  \n",
    "    print(ans$p.value)\n",
    "    vals=c(vals, ans$p.value)\n",
    "}\n",
    "#print(pvals)\n",
    "p.adjust(vals, 'fdr')"
   ]
  },
  {
   "cell_type": "code",
   "execution_count": null,
   "id": "854c700e-5639-4cde-8d26-5e6900e0552d",
   "metadata": {},
   "outputs": [],
   "source": []
  }
 ],
 "metadata": {
  "kernelspec": {
   "display_name": "R",
   "language": "R",
   "name": "ir"
  },
  "language_info": {
   "codemirror_mode": "r",
   "file_extension": ".r",
   "mimetype": "text/x-r-source",
   "name": "R",
   "pygments_lexer": "r",
   "version": "4.2.1"
  }
 },
 "nbformat": 4,
 "nbformat_minor": 5
}
